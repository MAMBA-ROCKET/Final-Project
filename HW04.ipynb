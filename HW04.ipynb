{
 "cells": [
  {
   "cell_type": "code",
   "execution_count": null,
   "metadata": {},
   "outputs": [],
   "source": [
    "import numpy as np\n",
    "import matplotlib.pyplot as plt\n",
    "import scipy as sp\n",
    "import itertools"
   ]
  },
  {
   "cell_type": "code",
   "execution_count": null,
   "metadata": {},
   "outputs": [],
   "source": []
  },
  {
   "cell_type": "code",
   "execution_count": null,
   "metadata": {},
   "outputs": [],
   "source": [
    "# Rosenbrock function\n",
    "def f(x,n):\n",
    "    y = 0\n",
    "    for i in range(1,int(n/2+1)):\n",
    "        temp = 2*(x[2*i]-x[2*i-1]**2)**2 + (1-x[2*i-1])**2\n",
    "        y += temp\n",
    "    return y"
   ]
  },
  {
   "cell_type": "code",
   "execution_count": 11,
   "metadata": {},
   "outputs": [],
   "source": [
    "# Gradient of Rosenbrock function\n",
    "def grad_f(x,n):\n",
    "    g = np.zeros(n)\n",
    "    for i in range(1,int(n/2+1)):\n",
    "        g[2*i-1] = -4*(x[2*i]-x[2*i-1]**2)*x[2*i-1] - 2*(1-x[2*i-1])\n",
    "        g[2*i] = 4*(x[2*i]-x[2*i-1]**2)\n",
    "    return g\n"
   ]
  },
  {
   "cell_type": "code",
   "execution_count": null,
   "metadata": {},
   "outputs": [],
   "source": [
    "def Hessian_f(x,n):\n",
    "    H = np.zeros((n,n))\n",
    "    for i in range(1,int(n/2+1)):\n",
    "        H[2*i-1,2*i-1] = -4*(x[2*i]-x[2*i-1]**2) + 8*x[2*i-1]**2 + 2\n",
    "        H[2*i-1,2*i] = -4*x[2*i-1]\n",
    "        H[2*i,2*i-1] = -4*x[2*i-1]\n",
    "        H[2*i,2*i] = 4\n",
    "    return H"
   ]
  },
  {
   "cell_type": "code",
   "execution_count": null,
   "metadata": {},
   "outputs": [],
   "source": [
    "def m(n,x,f,grad_f,Hessian_f,p):\n",
    "    f_value = f(x,n)\n",
    "    g_value = grad_f(x,n)\n",
    "    B_value = Hessian_f(x,n)\n",
    "\n",
    "    return f_value + g_value.T@p + 0.5*p.T@B_value@p"
   ]
  },
  {
   "cell_type": "code",
   "execution_count": null,
   "metadata": {},
   "outputs": [],
   "source": [
    "def find_tau1(z,p, d, H, g, delta): # need some fix, just make sure tau gets to the boundary\n",
    "    \"\"\"\n",
    "    Find tau such that p_k = z_j + tau * d_j minimizes m_k(p_k) = 0.5 * p.T @ H @ p + g.T @ p\n",
    "    subject to ||p|| = delta.\n",
    "    \"\"\"\n",
    "    a = d.T @ H @ d\n",
    "    b = g.T @ d\n",
    "    c = np.dot(p, p) - delta ** 2\n",
    "\n",
    "    if a == 0:\n",
    "        return -b / (2 * np.dot(d, d)) if np.dot(d, d) != 0 else 0.0\n",
    "\n",
    "    tau = -b / a\n",
    "    norm_check = np.linalg.norm(p + tau * d)\n",
    "    if norm_check > delta:\n",
    "        tau_adjusted = (delta - np.linalg.norm(p)) / np.linalg.norm(d)\n",
    "        return tau_adjusted\n",
    "\n",
    "    return tau\n",
    "    "
   ]
  },
  {
   "cell_type": "code",
   "execution_count": null,
   "metadata": {},
   "outputs": [],
   "source": [
    "def find_tau2(z, p, d, delta): # same as find_tau1\n",
    "    \"\"\"\n",
    "    Find tau such that ||p + tau * d|| = delta.\n",
    "    \"\"\"\n",
    "    a = np.dot(d, d)\n",
    "    b = 2 * np.dot(z, d)\n",
    "    c = np.dot(z, z) - delta ** 2\n",
    "\n",
    "    discriminant = b**2 - 4*a*c\n",
    "    if discriminant < 0:\n",
    "        return 0.0\n",
    "\n",
    "    sqrt_disc = np.sqrt(discriminant)\n",
    "    tau1 = (-b + sqrt_disc) / (2 * a)\n",
    "    tau2 = (-b - sqrt_disc) / (2 * a)\n",
    "\n",
    "    return max(tau1, tau2) if tau1 >= 0 or tau2 >= 0 else 0.0"
   ]
  },
  {
   "cell_type": "code",
   "execution_count": null,
   "metadata": {},
   "outputs": [],
   "source": [
    "def CG_Steihaug(eps,max_iter,delta,f,grad_f,Hessian_f,x,n):\n",
    "    p = np.zeros(n)\n",
    "    z = np.zeros(n)\n",
    "    r = grad_f(x,n)\n",
    "    d = -r\n",
    "    f_value = f(x,n)\n",
    "    g_value = grad_f(x,n)\n",
    "    B_value = Hessian_f(x,n)\n",
    "    if np.linalg.norm(r) < eps:\n",
    "        p = z\n",
    "        return p\n",
    "    \n",
    "    for j in range(max_iter):\n",
    "        if d.T @ B_value @ d <= 0:\n",
    "            tau = find_tau1(z,p,d,B_value,g_value,delta)\n",
    "            p = z + tau*d\n",
    "            return p\n",
    "        \n",
    "        alpha = r.T @ r / (d.T @ B_value @ d)\n",
    "        z_new = z + alpha*d\n",
    "        if np.linalg.norm(z_new) >= delta:\n",
    "            tau = find_tau2(z,p,d,delta)\n",
    "            p = z + tau*d\n",
    "            return p\n",
    "        \n",
    "        r_new = r + alpha*B_value@d\n",
    "        if np.linalg.norm(r_new) < eps:\n",
    "            p = z_new\n",
    "            return p\n",
    "        \n",
    "        beta = r_new.T @ r_new / (r.T @ r)\n",
    "        d = -r_new + beta*d\n",
    "        z = z_new\n",
    "        r = r_new\n",
    "\n",
    "    return p"
   ]
  },
  {
   "cell_type": "code",
   "execution_count": null,
   "metadata": {},
   "outputs": [],
   "source": [
    "max_iter = 1000\n",
    "n_list = [2,4,10,100,1000]\n",
    "\n",
    "for n in n_list:\n",
    "    x = -np.ones(n) # initial guess\n",
    "    x_star = np.ones(n)\n",
    "    delta = 1\n",
    "    delta_max = 10\n",
    "    eta = 0.5\n",
    "    for k in itertools.count():\n",
    "\n",
    "        eta = min(0.5,np.linalg.norm(grad_f(x,n)))\n",
    "        eps = eta*np.linalg.norm(grad_f(x,n))\n",
    "        p_k = CG_Steihaug(eps,f,grad_f)\n",
    "        p_0 = np.zeros(n)\n",
    "        rho = (f(x) - f(x + p_k)) / (m(p_0) - m(p_k))\n",
    "        if rho < 1/4:\n",
    "            delta = 1/4 * delta\n",
    "        else:\n",
    "            if rho > 3/4 and np.linalg.norm(p_k) == delta:\n",
    "                delta = min(2*delta,delta_max)\n",
    "            else:\n",
    "                delta = delta\n",
    "        if rho > eta:\n",
    "            x = x + p_k\n",
    "        else:\n",
    "            x = x     \n",
    "    "
   ]
  },
  {
   "cell_type": "code",
   "execution_count": null,
   "metadata": {},
   "outputs": [
    {
     "name": "stdout",
     "output_type": "stream",
     "text": [
      "0\n",
      "1\n",
      "2\n",
      "3\n",
      "4\n",
      "5\n",
      "6\n",
      "7\n",
      "8\n",
      "9\n",
      "10\n"
     ]
    }
   ],
   "source": []
  },
  {
   "cell_type": "code",
   "execution_count": null,
   "metadata": {},
   "outputs": [],
   "source": []
  }
 ],
 "metadata": {
  "kernelspec": {
   "display_name": "Python 3",
   "language": "python",
   "name": "python3"
  },
  "language_info": {
   "codemirror_mode": {
    "name": "ipython",
    "version": 3
   },
   "file_extension": ".py",
   "mimetype": "text/x-python",
   "name": "python",
   "nbconvert_exporter": "python",
   "pygments_lexer": "ipython3",
   "version": "3.13.2"
  }
 },
 "nbformat": 4,
 "nbformat_minor": 2
}
